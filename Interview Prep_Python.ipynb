{
 "cells": [
  {
   "cell_type": "markdown",
   "id": "a9c76f77",
   "metadata": {},
   "source": [
    "## Interview prep - Python codes\n",
    "\n",
    "#### Solved Python coding interview questions from various sources "
   ]
  },
  {
   "cell_type": "markdown",
   "id": "3fc486c2",
   "metadata": {},
   "source": [
    "### Common python coding interview question types:\n",
    "1. Statistical & distribution base questions - compute greatest common divisor, simulate multinomial distribution using uniform random numbers, enumerate all prime numbers upto natural number N\n",
    "2. Probability simulation - simulate role of dice, monte carlo simulation, simulating a distribution from another, sampling (importance sampling, rejection, inverse and weighted smpling)\n",
    "3. String parsing and data manipulation - regex, processing a paragraph, basic functions of python\n",
    "4. Numpy functions and matrices - conway game of life, using mathematical functions, matrice jacobian distance\n",
    "5. Pandas data munging - data manipulations/cleaning, feature manipulation, simple model creations, outlier and missing correction, subset"
   ]
  },
  {
   "cell_type": "code",
   "execution_count": 1,
   "id": "77298c6f",
   "metadata": {},
   "outputs": [
    {
     "name": "stdout",
     "output_type": "stream",
     "text": [
      "{'the': {1, 2, 3}, 'cat': {1, 2}, 'ate': {1}, 'fish': {1}, 'saw': {2}, 'roses': {2, 3}, 'are': {3}, 'red': {3}}\n",
      "{'the': 3, 'cat': 2, 'ate': 1, 'fish': 1, 'saw': 1, 'roses': 2, 'are': 1, 'red': 1}\n",
      "{3: ['the'], 2: ['cat', 'roses'], 1: ['ate', 'fish', 'saw', 'are', 'red']}\n"
     ]
    }
   ],
   "source": [
    "#1. Suppose you have a list of strings, each of which is an English sentence.\n",
    "# Output a dictionary out_dict that maps a key n to the list of words that occur in n different sentences.\n",
    "\n",
    "str_list = [\"The cat ate the fish\", \"The cat saw the roses\", \"The roses are red\"]\n",
    "\n",
    "temp_dict = {}\n",
    "for i in range(0, len(str_list)):\n",
    "    for w in str_list[i].split(\" \"):\n",
    "        w = w.lower()\n",
    "        if w not in temp_dict:\n",
    "            temp_dict[w] = set([i+1])\n",
    "        else:\n",
    "            temp_dict[w].add(i+1)\n",
    "print(temp_dict) ##dictionary with each word as key and the sentence numbers in which it occurs as values\n",
    "\n",
    "for k, v in temp_dict.items():\n",
    "    temp_dict[k] = len(v)\n",
    "print(temp_dict)  ##dictionary with each word as key and the total number of sentences in which it occurs as values\n",
    "\n",
    "out_dict = {}\n",
    "for k, v in temp_dict.items():\n",
    "    if v not in out_dict:\n",
    "        out_dict[v] = [k]\n",
    "    else:\n",
    "        out_dict[v].append(k)\n",
    "print(out_dict)"
   ]
  },
  {
   "cell_type": "code",
   "execution_count": 2,
   "id": "bc5265c4",
   "metadata": {},
   "outputs": [
    {
     "name": "stdout",
     "output_type": "stream",
     "text": [
      "{1: ['I', 'a', 'a'], 3: ['ate', 'out', 'dog'], 4: ['bowl', 'bowl'], 2: ['of', 'of'], 6: ['cereal', 'today.']}\n",
      "47\n",
      "6\n"
     ]
    }
   ],
   "source": [
    "#2. Map length of words in a sentence to a list of words\n",
    "\n",
    "def word_lengths(s):\n",
    "    d = {}\n",
    "    for i in s.split():           #Split by space\n",
    "        l = len(i)\n",
    "        if l not in d:            #Create len as key\n",
    "            d[l] = [i]\n",
    "        else:\n",
    "            d[l].append(i)  \n",
    "    return d\n",
    "\n",
    "print(word_lengths(\"I ate a bowl of cereal out of a dog bowl today.\"))\n",
    "print(len(\"I ate a bowl of cereal out of a dog bowl today.\"))\n",
    "print(len(\"cereal\"))"
   ]
  },
  {
   "cell_type": "code",
   "execution_count": 3,
   "id": "8740a25a",
   "metadata": {},
   "outputs": [
    {
     "name": "stdout",
     "output_type": "stream",
     "text": [
      "Enter the length of Fibonacci sequence:15\n",
      "[0, 1, 1, 2, 3, 5, 8, 13, 21, 34, 55, 89, 144, 233, 377]\n"
     ]
    }
   ],
   "source": [
    "#3. Write a Python function that displays the first n Fibonacci numbers.\n",
    "\n",
    "n = int(input(\"Enter the length of Fibonacci sequence:\"))\n",
    "\n",
    "n1, n2 = 0,1\n",
    "seq = [n1,n2]\n",
    "\n",
    "if n<0:\n",
    "    n = int(input(\"Please enter a positive integer for length:\"))\n",
    "elif n==1 | n==2:\n",
    "    print(seq(range(n)))\n",
    "else:\n",
    "    for i in range(2,n):\n",
    "        seq.append(seq[i-2] + seq[i-1])\n",
    "    # end of for loop and else block\n",
    "        \n",
    "print(seq)"
   ]
  },
  {
   "cell_type": "code",
   "execution_count": 4,
   "id": "a663cbba",
   "metadata": {},
   "outputs": [
    {
     "data": {
      "image/png": "[encoded data removed]",
      "text/plain": [
       "<Figure size 432x288 with 1 Axes>"
      ]
     },
     "metadata": {
      "needs_background": "light"
     },
     "output_type": "display_data"
    }
   ],
   "source": [
    "#4. If given an integer n and an array of numbers, give out the histogram divided into n bins.\n",
    "import matplotlib.pyplot as plt\n",
    "import random\n",
    "\n",
    "def histobin(seq,n):\n",
    "    if(len(seq))==0:\n",
    "        print(\"Please enter a valid sequence of integers as an array.\")\n",
    "    elif(len(seq))<n:\n",
    "        print(\"Please adjust bin size for the array.\")\n",
    "    else:\n",
    "        plt.hist(x=seq, bins=n, color = 'blue')\n",
    "        plt.xlabel('Value')\n",
    "        plt.ylabel('Frequency')\n",
    "        plt.title('Histogram')\n",
    "        plt.show()\n",
    "        \n",
    "histobin(random.sample(range(300),30),10)\n",
    "\n",
    "## !!!! All about histograms at python: https://realpython.com/python-histograms/  !!!!!!!!!!"
   ]
  },
  {
   "cell_type": "code",
   "execution_count": 5,
   "id": "b162c01d",
   "metadata": {},
   "outputs": [
    {
     "name": "stdout",
     "output_type": "stream",
     "text": [
      "Randint: 149\n",
      "Randrange: 110\n",
      "For loop randint sequence: [85, 157, 150, 119, 92, 114, 173, 98, 109, 111]\n",
      "Random.sample: [89, 16, 21, 55, 61, 58, 18, 57, 72, 22]\n",
      "FillArrRecusrsively: None\n"
     ]
    }
   ],
   "source": [
    "#5. Create a sequnce of random integers with and without repetition (unique and non-unique sequence of random numbers)\n",
    "import random\n",
    "## All about random package https://www.thepythoncode.com/article/generate-random-data-in-python \n",
    "\n",
    "# generate a random integer between 0 and 200 (including 0 and 200)\n",
    "print(\"Randint:\", random.randint(0,200))         #choose random integer x such that a<= x <=b.\n",
    "print(\"Randrange:\",random.randrange(0, 200, 10)) #choose random integer from the range (start=0, stop=500, step=5), i.e 0,5,10,500 \n",
    "\n",
    "# generate a sequence of integers of given length in the given range\n",
    "arrlen = 10\n",
    "arr = []\n",
    "for i in range(arrlen): arr.append(random.randint(0,200))\n",
    "print(\"For loop randint sequence:\", arr)\n",
    "\n",
    "# random integer sequence without repetitions\n",
    "print(\"Random.sample:\", random.sample(range(100), 10))\n",
    "\n",
    "# random integer sequence with repetitions\n",
    "def fillArrRecursively(arr, max, seed):\n",
    "    if seed > 0:\n",
    "        random.seed(seed)\n",
    "        seed = -len(arr)\n",
    "    if seed < 0:\n",
    "        arr[-seed-1] = random.randint(0, max)\n",
    "        fillArrRecursively(arr, max, seed+1)  \n",
    "        \n",
    "arr = fillArrRecursively([1,2,3,5,6],10, 4)\n",
    "print(\"FillArrRecusrsively:\", arr)"
   ]
  },
  {
   "cell_type": "code",
   "execution_count": 6,
   "id": "b4ec9129",
   "metadata": {},
   "outputs": [
    {
     "name": "stdout",
     "output_type": "stream",
     "text": [
      "[0, 1, 2, 3, 4, 5, 6, 7, 8, 9]\n",
      "[0, 1, 2, 3, 4, 5, 6, 7, 8, 9]\n"
     ]
    },
    {
     "data": {
      "text/plain": [
       "[[1, 2, 3, 4, 5, 6, 7, 8, 9, 10],\n",
       " [11, 12, 13, 14, 15, 16, 17, 18, 19, 20],\n",
       " [21, 22, 23, 24, 25, 26, 27, 28, 29, 30],\n",
       " [31, 32, 33, 34, 35, 36, 37, 38, 39, 40],\n",
       " [41, 42, 43, 44, 45, 46, 47, 48, 49, 50],\n",
       " [51, 52, 53, 54, 55, 56, 57, 58, 59, 60],\n",
       " [61, 62, 63, 64, 65, 66, 67, 68, 69, 70],\n",
       " [71, 72, 73, 74, 75, 76, 77, 78, 79, 80],\n",
       " [81, 82, 83, 84, 85, 86, 87, 88, 89, 90],\n",
       " [91, 92, 93, 94, 95, 96, 97, 98, 99, 100]]"
      ]
     },
     "execution_count": 6,
     "metadata": {},
     "output_type": "execute_result"
    }
   ],
   "source": [
    "#6. Generate groups of 10 consecutive numbers in a list\n",
    "print([r for r in range(10)])\n",
    "print(list(range(10)))\n",
    "[[10*i + j for j in range(1,11)] for i in range(10)] "
   ]
  },
  {
   "cell_type": "code",
   "execution_count": null,
   "id": "a68528b3",
   "metadata": {},
   "outputs": [],
   "source": [
    "#7. Creating random datasets in python: https://machinelearningmastery.com/how-to-generate-random-numbers-in-python/\n",
    "## Iterating over data frames realpython: https://realpython.com/pandas-dataframe/ \n",
    "\n",
    "# Create a dataset with following columns\n",
    "from sklearn.datasets import make_classification\n",
    "import pandas as pd\n",
    "\n",
    "y = make_classification(\n",
    "    n_classes=2, class_sep=1.5, weights=[0.9, 0.1],\n",
    "    n_informative=3, n_redundant=1, flip_y=0,\n",
    "    n_features=20, n_clusters_per_class=1,\n",
    "    n_samples=100, random_state=10)\n",
    "\n",
    "X = pd.DataFrame(X)\n",
    "X['target'] = y\n",
    "\n",
    "print(X)\n",
    "############# Still incomplete - will be updated soon"
   ]
  },
  {
   "cell_type": "code",
   "execution_count": 7,
   "id": "39302f70",
   "metadata": {},
   "outputs": [
    {
     "name": "stdout",
     "output_type": "stream",
     "text": [
      "There are 30 prime numbers between 1 and 110 : [1, 2, 3, 5, 7, 11, 13, 17, 19, 23, 29, 31, 37, 41, 43, 47, 53, 59, 61, 67, 71, 73, 79, 83, 89, 97, 101, 103, 107, 109]\n",
      "The first 30 prime numbers are: [1, 2, 3, 5, 7, 11, 13, 17, 19, 23, 29, 31, 37, 41, 43, 47, 53, 59, 61, 67, 71, 73, 79, 83, 89, 97, 101, 103, 107, 109]\n"
     ]
    }
   ],
   "source": [
    "#8. Generating prime numbers\n",
    "# prime numbers are numbers that are divisible only by 1 and itself so we can use % operator to create this sequence\n",
    "\n",
    "#8a. Create a sequence of prime numbers between 1 and the given number using python\n",
    "lwrrange = 1\n",
    "uprrange = 110  #find prime numbers between 1 and 30\n",
    "primeseq = []\n",
    "\n",
    "for i in range(lwrrange,uprrange+1):\n",
    "    if i>0:\n",
    "        for j in range(2,i):\n",
    "            if(i%j==0):\n",
    "                break\n",
    "            else:     ## NOTE the position of this else block. If this else block is indented further to the right, then numbers are printed multiple times\n",
    "                if (i%j!=0 & j==i):\n",
    "                    continue\n",
    "        else:\n",
    "            primeseq.append(i)\n",
    "    else:\n",
    "        print(\"Please enter a positive range for prime numbers.\")\n",
    "        break\n",
    "        \n",
    "print(\"There are\",str(len(primeseq)),\"prime numbers between\", str(lwrrange),\"and\",str(uprrange),\":\", primeseq)\n",
    "\n",
    "\n",
    "#8b. Print first n prime numbers \n",
    "n = 30\n",
    "primeseq = []\n",
    "for i in range(1,10000):\n",
    "    for j in range(2,i):\n",
    "        if len(primeseq)==n:\n",
    "            break\n",
    "        elif i%j == 0:\n",
    "            break\n",
    "    else:\n",
    "        primeseq.append(i)\n",
    "        \n",
    "print(\"The first\",str(n),\"prime numbers are:\", primeseq)"
   ]
  },
  {
   "cell_type": "code",
   "execution_count": 8,
   "id": "a7aaa8a4",
   "metadata": {},
   "outputs": [
    {
     "name": "stdout",
     "output_type": "stream",
     "text": [
      "{'1': 'Film & Animation', '2': 'Autos & Vehicles', '10': 'Music', '15': 'Pets & Animals', '17': 'Sports'}\n"
     ]
    }
   ],
   "source": [
    "#9a. Given a dict of dicts of JSON blob, parse particular entities using basic python\n",
    "\n",
    "# JSON blob of video categoroies on Youtube - find ids for each category in the blob\n",
    "catjson = {\n",
    " \"kind\": \"youtube#videoCategoryListResponse\",\n",
    " \"etag\": \"\\\"XI7nbFXulYBIpL0ayR_gDh3eu1k/1v2mrzYSYG6onNLt2qTj13hkQZk\\\"\",\n",
    " \"items\": [\n",
    "  {\n",
    "   \"kind\": \"youtube#videoCategory\",\n",
    "   \"etag\": \"\\\"XI7nbFXulYBIpL0ayR_gDh3eu1k/Xy1mB4_yLrHy_BmKmPBggty2mZQ\\\"\",\n",
    "   \"id\": \"1\",\n",
    "   \"snippet\": {\n",
    "    \"channelId\": \"UCBR8-60-B28hp2BmDPdntcQ\",\n",
    "    \"title\": \"Film & Animation\",\n",
    "    \"assignable\": 'true'\n",
    "   }\n",
    "  },\n",
    "  {\n",
    "   \"kind\": \"youtube#videoCategory\",\n",
    "   \"etag\": \"\\\"XI7nbFXulYBIpL0ayR_gDh3eu1k/UZ1oLIIz2dxIhO45ZTFR3a3NyTA\\\"\",\n",
    "   \"id\": \"2\",\n",
    "   \"snippet\": {\n",
    "    \"channelId\": \"UCBR8-60-B28hp2BmDPdntcQ\",\n",
    "    \"title\": \"Autos & Vehicles\",\n",
    "    \"assignable\": 'true'\n",
    "   }\n",
    "  },\n",
    "  {\n",
    "   \"kind\": \"youtube#videoCategory\",\n",
    "   \"etag\": \"\\\"XI7nbFXulYBIpL0ayR_gDh3eu1k/nqRIq97-xe5XRZTxbknKFVe5Lmg\\\"\",\n",
    "   \"id\": \"10\",\n",
    "   \"snippet\": {\n",
    "    \"channelId\": \"UCBR8-60-B28hp2BmDPdntcQ\",\n",
    "    \"title\": \"Music\",\n",
    "    \"assignable\": 'true'\n",
    "   }\n",
    "  },\n",
    "  {\n",
    "   \"kind\": \"youtube#videoCategory\",\n",
    "   \"etag\": \"\\\"XI7nbFXulYBIpL0ayR_gDh3eu1k/HwXKamM1Q20q9BN-oBJavSGkfDI\\\"\",\n",
    "   \"id\": \"15\",\n",
    "   \"snippet\": {\n",
    "    \"channelId\": \"UCBR8-60-B28hp2BmDPdntcQ\",\n",
    "    \"title\": \"Pets & Animals\",\n",
    "    \"assignable\": 'true'\n",
    "   }\n",
    "  },\n",
    "  {\n",
    "   \"kind\": \"youtube#videoCategory\",\n",
    "   \"etag\": \"\\\"XI7nbFXulYBIpL0ayR_gDh3eu1k/9GQMSRjrZdHeb1OEM1XVQ9zbGec\\\"\",\n",
    "   \"id\": \"17\",\n",
    "   \"snippet\": {\n",
    "    \"channelId\": \"UCBR8-60-B28hp2BmDPdntcQ\",\n",
    "    \"title\": \"Sports\",\n",
    "    \"assignable\": 'true'\n",
    "   }\n",
    "  }\n",
    " ]\n",
    "}\n",
    "\n",
    "cats = [catjson['items'][i]['snippet']['title'] for i in range(0,len(catjson['items']))]\n",
    "ids = [catjson['items'][i]['id'] for i in range(0,len(catjson['items']))]\n",
    "\n",
    "# zipping categories and ids into a dictionary\n",
    "catdict = dict(zip(ids,cats))\n",
    "print(catdict)"
   ]
  },
  {
   "cell_type": "code",
   "execution_count": 9,
   "id": "a57b53e0",
   "metadata": {},
   "outputs": [
    {
     "name": "stdout",
     "output_type": "stream",
     "text": [
      "12345\n",
      "beast\n",
      "https://www.google.com\n"
     ]
    }
   ],
   "source": [
    "#9b. Find values of 'id', 'name' and 'self' tags from the following JSON\n",
    "\n",
    "exjson = {\n",
    "  \"items\": [\n",
    "    {\n",
    "      \"id\": \"12345\",\n",
    "      \"links\": {\n",
    "        \"self\": \"https://www.google.com\"\n",
    "      },\n",
    "      \"name\": \"beast\",\n",
    "      \"type\": \"Device\"\n",
    "    }\n",
    "  ],\n",
    "  \"links\": {\n",
    "    \"self\": \"https://www.google.com\"\n",
    "  },\n",
    "  \"paging\": {\n",
    "    \"count\": 1,\n",
    "    \"limit\": 1,\n",
    "    \"offset\": 0,\n",
    "    \"pages\": 1\n",
    "  }\n",
    "}\n",
    "\n",
    "# we can find all of the three tags in the sme section of this JSON so we can get them all with simple indexing\n",
    "## Tip - parse the json blob like you would a tree or an HTML file\n",
    "print(exjson['items'][0]['id'])\n",
    "print(exjson['items'][0]['name'])\n",
    "print(exjson['items'][0]['links']['self'])"
   ]
  },
  {
   "cell_type": "code",
   "execution_count": 10,
   "id": "6abab8dc",
   "metadata": {},
   "outputs": [
    {
     "name": "stdout",
     "output_type": "stream",
     "text": [
      "{1: 99, 2: 84, 3: 158, 4: 148, 5: 321, 6: 444, 7: 374, 8: 491, 9: 437, 10: 434, 11: 450, 12: 190, 13: 44, 14: 432, 15: 310, 16: 172, 17: 343, 18: 198, 19: 259, 20: 127, 21: 91, 22: 126, 23: 242, 24: 143, 25: 45, 26: 483, 27: 478, 28: 418, 29: 443, 30: 482}\n",
      "{1: 99, 2: 183, 3: 341, 4: 489, 5: 810, 6: 1254, 7: 1628, 8: 2119, 9: 2556, 10: 2990, 11: 3440, 12: 3630, 13: 3674, 14: 4106, 15: 4416, 16: 4588, 17: 4931, 18: 5129, 19: 5388, 20: 5515, 21: 5606, 22: 5732, 23: 5974, 24: 6117, 25: 6162, 26: 6645, 27: 7123, 28: 7541, 29: 7984, 30: 8466}\n"
     ]
    }
   ],
   "source": [
    "#10. Caluculate 30 day rolling profit using basic Python \n",
    "\n",
    "# If we are given a seq of 30 numbers for the profit for each day, we can calculate the rolling profit as follows\n",
    "## All about parsing through dicts in python: https://realpython.com/iterate-through-dictionary-python/ \n",
    "# Note: in Python 3, dict.values(), dict.keys() and dict.items() return view objects, to manipulate dict, use dict[i]\n",
    "# Note: In Python 2, .items(), .keys(), and .values() return list objects. \n",
    "#       But .iteritems(), iterkeys(), and .itervalues() return iterators. So, if you’re using Python 2, then you can modify the dictionary’s keys by using .keys() directly.\n",
    "#      On the other hand, if you’re using iterkeys() in your Python 2 code and you try to modify the keys of a dictionary, then you’ll get a RuntimeError.\n",
    "\n",
    "import random \n",
    "dailyprofit = random.sample(range(0,500),30)\n",
    "dailyprofit = dict(zip(list(range(1,len(dailyprofit)+1)),random.sample(range(0,500),30))) # create a dictionary o profits for each day of the month\n",
    "print(dailyprofit)\n",
    "rollingprofit = []\n",
    "\n",
    "# using dict.items()                                             # using dict[i]\n",
    "for key,value in dailyprofit.items():                            # for i in range(1,len(dailyprofit)+1):\n",
    "    if key == 1:                                                 #     if i==1:\n",
    "        rollingprofit.append(value)                              #          rollingprofit.append(dailyprofit[i])\n",
    "        continue                                                 #          continue\n",
    "    elif key>1:                                                  #     elif i>1:\n",
    "        rollingprofit.append(rollingprofit[key-2]+value)         #          rollingprofit.append(rollingprofit[i-2]+dailyprofit[i])\n",
    "#end of for loop\n",
    "\n",
    "rollingprofit = dict(zip(list(range(1,len(dailyprofit)+1)),rollingprofit))\n",
    "print(rollingprofit)"
   ]
  },
  {
   "cell_type": "code",
   "execution_count": 11,
   "id": "6d51ecdf",
   "metadata": {},
   "outputs": [
    {
     "name": "stdout",
     "output_type": "stream",
     "text": [
      "{1: 'one', 2: 'two', 3: 'thee', 4: 'four'}\n"
     ]
    }
   ],
   "source": [
    "#11. Reverse values and keys in a given dictionary\n",
    "a_dict = {'one': 1, 'two': 2, 'thee': 3, 'four': 4}\n",
    "new_dict = {}\n",
    "for key, value in a_dict.items():\n",
    "    new_dict[value] = key\n",
    "print(new_dict)                                           #{1: 'one', 2: 'two', 3: 'thee', 4: 'four'}\n",
    "## OR\n",
    "new_dict = {value: key for key, value in a_dict.items()}  #{1: 'one', 2: 'two', 3: 'thee', 4: 'four'}\n",
    "\n",
    "## filtering dicts\n",
    "new_dict = {k: v for k, v in a_dict.items() if v <= 2}\n",
    "\n",
    "## sum of values in dict\n",
    "total_values = sum([value for value in a_dict.values()]) \n",
    "# or total_values = sum(a_dict.values())\n",
    "\n",
    "## removing specific elements\n",
    "non_one = {k: a_dict[k] for k in a_dict.keys() - {'one'}}\n",
    "\n",
    "## sorting vlues - In Python 3.6 and beyond\n",
    "sorted_dict = {k: a_dict[k] for k in sorted(a_dict)}\n",
    "\n",
    "## All about parsing through dicts in python: https://realpython.com/iterate-through-dictionary-python/ "
   ]
  },
  {
   "cell_type": "code",
   "execution_count": 110,
   "id": "c5e127b4",
   "metadata": {},
   "outputs": [
    {
     "name": "stdout",
     "output_type": "stream",
     "text": [
      "dict_keys([20190101, 20190110, 20190123, 20190205, 20190219, 20190307, 20190321, 20190330, 20190403, 20190415, 20190422, 20190504, 20190606, 20190708, 20190720, 20190817, 20190912, 20191105, 20200110, 20200109, 20200115])\n"
     ]
    },
    {
     "ename": "NameError",
     "evalue": "name 'append' is not defined",
     "output_type": "error",
     "traceback": [
      "\u001b[1;31m---------------------------------------------------------------------------\u001b[0m",
      "\u001b[1;31mNameError\u001b[0m                                 Traceback (most recent call last)",
      "\u001b[1;32m~\\AppData\\Local\\Temp/ipykernel_5436/1567431931.py\u001b[0m in \u001b[0;36m<module>\u001b[1;34m\u001b[0m\n\u001b[0;32m     58\u001b[0m \u001b[1;31m#         .apply(lambda x: ' '.join(x))\u001b[0m\u001b[1;33m\u001b[0m\u001b[1;33m\u001b[0m\u001b[1;33m\u001b[0m\u001b[0m\n\u001b[0;32m     59\u001b[0m \u001b[1;31m#         .reset_index())\u001b[0m\u001b[1;33m\u001b[0m\u001b[1;33m\u001b[0m\u001b[1;33m\u001b[0m\u001b[0m\n\u001b[1;32m---> 60\u001b[1;33m temp = (logdf.groupby('Year')['Strings']\n\u001b[0m\u001b[0;32m     61\u001b[0m         \u001b[1;33m.\u001b[0m\u001b[0mtransform\u001b[0m\u001b[1;33m(\u001b[0m\u001b[1;32mlambda\u001b[0m \u001b[0mx\u001b[0m\u001b[1;33m:\u001b[0m \u001b[0mappend\u001b[0m\u001b[1;33m(\u001b[0m\u001b[0mx\u001b[0m\u001b[1;33m)\u001b[0m\u001b[1;33m)\u001b[0m\u001b[1;33m\u001b[0m\u001b[1;33m\u001b[0m\u001b[0m\n\u001b[0;32m     62\u001b[0m         .reset_index())\n",
      "\u001b[1;32m~\\Anaconda2\\envs\\py38\\lib\\site-packages\\pandas\\core\\groupby\\generic.py\u001b[0m in \u001b[0;36mtransform\u001b[1;34m(self, func, engine, engine_kwargs, *args, **kwargs)\u001b[0m\n\u001b[0;32m    503\u001b[0m     \u001b[1;33m@\u001b[0m\u001b[0mAppender\u001b[0m\u001b[1;33m(\u001b[0m\u001b[0m_transform_template\u001b[0m\u001b[1;33m)\u001b[0m\u001b[1;33m\u001b[0m\u001b[1;33m\u001b[0m\u001b[0m\n\u001b[0;32m    504\u001b[0m     \u001b[1;32mdef\u001b[0m \u001b[0mtransform\u001b[0m\u001b[1;33m(\u001b[0m\u001b[0mself\u001b[0m\u001b[1;33m,\u001b[0m \u001b[0mfunc\u001b[0m\u001b[1;33m,\u001b[0m \u001b[1;33m*\u001b[0m\u001b[0margs\u001b[0m\u001b[1;33m,\u001b[0m \u001b[0mengine\u001b[0m\u001b[1;33m=\u001b[0m\u001b[1;32mNone\u001b[0m\u001b[1;33m,\u001b[0m \u001b[0mengine_kwargs\u001b[0m\u001b[1;33m=\u001b[0m\u001b[1;32mNone\u001b[0m\u001b[1;33m,\u001b[0m \u001b[1;33m**\u001b[0m\u001b[0mkwargs\u001b[0m\u001b[1;33m)\u001b[0m\u001b[1;33m:\u001b[0m\u001b[1;33m\u001b[0m\u001b[1;33m\u001b[0m\u001b[0m\n\u001b[1;32m--> 505\u001b[1;33m         return self._transform(\n\u001b[0m\u001b[0;32m    506\u001b[0m             \u001b[0mfunc\u001b[0m\u001b[1;33m,\u001b[0m \u001b[1;33m*\u001b[0m\u001b[0margs\u001b[0m\u001b[1;33m,\u001b[0m \u001b[0mengine\u001b[0m\u001b[1;33m=\u001b[0m\u001b[0mengine\u001b[0m\u001b[1;33m,\u001b[0m \u001b[0mengine_kwargs\u001b[0m\u001b[1;33m=\u001b[0m\u001b[0mengine_kwargs\u001b[0m\u001b[1;33m,\u001b[0m \u001b[1;33m**\u001b[0m\u001b[0mkwargs\u001b[0m\u001b[1;33m\u001b[0m\u001b[1;33m\u001b[0m\u001b[0m\n\u001b[0;32m    507\u001b[0m         )\n",
      "\u001b[1;32m~\\Anaconda2\\envs\\py38\\lib\\site-packages\\pandas\\core\\groupby\\groupby.py\u001b[0m in \u001b[0;36m_transform\u001b[1;34m(self, func, engine, engine_kwargs, *args, **kwargs)\u001b[0m\n\u001b[0;32m   1444\u001b[0m \u001b[1;33m\u001b[0m\u001b[0m\n\u001b[0;32m   1445\u001b[0m         \u001b[1;32mif\u001b[0m \u001b[1;32mnot\u001b[0m \u001b[0misinstance\u001b[0m\u001b[1;33m(\u001b[0m\u001b[0mfunc\u001b[0m\u001b[1;33m,\u001b[0m \u001b[0mstr\u001b[0m\u001b[1;33m)\u001b[0m\u001b[1;33m:\u001b[0m\u001b[1;33m\u001b[0m\u001b[1;33m\u001b[0m\u001b[0m\n\u001b[1;32m-> 1446\u001b[1;33m             \u001b[1;32mreturn\u001b[0m \u001b[0mself\u001b[0m\u001b[1;33m.\u001b[0m\u001b[0m_transform_general\u001b[0m\u001b[1;33m(\u001b[0m\u001b[0mfunc\u001b[0m\u001b[1;33m,\u001b[0m \u001b[1;33m*\u001b[0m\u001b[0margs\u001b[0m\u001b[1;33m,\u001b[0m \u001b[1;33m**\u001b[0m\u001b[0mkwargs\u001b[0m\u001b[1;33m)\u001b[0m\u001b[1;33m\u001b[0m\u001b[1;33m\u001b[0m\u001b[0m\n\u001b[0m\u001b[0;32m   1447\u001b[0m \u001b[1;33m\u001b[0m\u001b[0m\n\u001b[0;32m   1448\u001b[0m         \u001b[1;32melif\u001b[0m \u001b[0mfunc\u001b[0m \u001b[1;32mnot\u001b[0m \u001b[1;32min\u001b[0m \u001b[0mbase\u001b[0m\u001b[1;33m.\u001b[0m\u001b[0mtransform_kernel_allowlist\u001b[0m\u001b[1;33m:\u001b[0m\u001b[1;33m\u001b[0m\u001b[1;33m\u001b[0m\u001b[0m\n",
      "\u001b[1;32m~\\Anaconda2\\envs\\py38\\lib\\site-packages\\pandas\\core\\groupby\\generic.py\u001b[0m in \u001b[0;36m_transform_general\u001b[1;34m(self, func, *args, **kwargs)\u001b[0m\n\u001b[0;32m    534\u001b[0m             \u001b[1;31m# this setattr is needed for test_transform_lambda_with_datetimetz\u001b[0m\u001b[1;33m\u001b[0m\u001b[1;33m\u001b[0m\u001b[1;33m\u001b[0m\u001b[0m\n\u001b[0;32m    535\u001b[0m             \u001b[0mobject\u001b[0m\u001b[1;33m.\u001b[0m\u001b[0m__setattr__\u001b[0m\u001b[1;33m(\u001b[0m\u001b[0mgroup\u001b[0m\u001b[1;33m,\u001b[0m \u001b[1;34m\"name\"\u001b[0m\u001b[1;33m,\u001b[0m \u001b[0mname\u001b[0m\u001b[1;33m)\u001b[0m\u001b[1;33m\u001b[0m\u001b[1;33m\u001b[0m\u001b[0m\n\u001b[1;32m--> 536\u001b[1;33m             \u001b[0mres\u001b[0m \u001b[1;33m=\u001b[0m \u001b[0mfunc\u001b[0m\u001b[1;33m(\u001b[0m\u001b[0mgroup\u001b[0m\u001b[1;33m,\u001b[0m \u001b[1;33m*\u001b[0m\u001b[0margs\u001b[0m\u001b[1;33m,\u001b[0m \u001b[1;33m**\u001b[0m\u001b[0mkwargs\u001b[0m\u001b[1;33m)\u001b[0m\u001b[1;33m\u001b[0m\u001b[1;33m\u001b[0m\u001b[0m\n\u001b[0m\u001b[0;32m    537\u001b[0m \u001b[1;33m\u001b[0m\u001b[0m\n\u001b[0;32m    538\u001b[0m             \u001b[0mresults\u001b[0m\u001b[1;33m.\u001b[0m\u001b[0mappend\u001b[0m\u001b[1;33m(\u001b[0m\u001b[0mklass\u001b[0m\u001b[1;33m(\u001b[0m\u001b[0mres\u001b[0m\u001b[1;33m,\u001b[0m \u001b[0mindex\u001b[0m\u001b[1;33m=\u001b[0m\u001b[0mgroup\u001b[0m\u001b[1;33m.\u001b[0m\u001b[0mindex\u001b[0m\u001b[1;33m)\u001b[0m\u001b[1;33m)\u001b[0m\u001b[1;33m\u001b[0m\u001b[1;33m\u001b[0m\u001b[0m\n",
      "\u001b[1;32m~\\AppData\\Local\\Temp/ipykernel_5436/1567431931.py\u001b[0m in \u001b[0;36m<lambda>\u001b[1;34m(x)\u001b[0m\n\u001b[0;32m     59\u001b[0m \u001b[1;31m#         .reset_index())\u001b[0m\u001b[1;33m\u001b[0m\u001b[1;33m\u001b[0m\u001b[1;33m\u001b[0m\u001b[0m\n\u001b[0;32m     60\u001b[0m temp = (logdf.groupby('Year')['Strings']\n\u001b[1;32m---> 61\u001b[1;33m         \u001b[1;33m.\u001b[0m\u001b[0mtransform\u001b[0m\u001b[1;33m(\u001b[0m\u001b[1;32mlambda\u001b[0m \u001b[0mx\u001b[0m\u001b[1;33m:\u001b[0m \u001b[0mappend\u001b[0m\u001b[1;33m(\u001b[0m\u001b[0mx\u001b[0m\u001b[1;33m)\u001b[0m\u001b[1;33m)\u001b[0m\u001b[1;33m\u001b[0m\u001b[1;33m\u001b[0m\u001b[0m\n\u001b[0m\u001b[0;32m     62\u001b[0m         .reset_index())\n\u001b[0;32m     63\u001b[0m \u001b[1;31m# temp['Events'] = temp['Events'].str.split(\" \")\u001b[0m\u001b[1;33m\u001b[0m\u001b[1;33m\u001b[0m\u001b[1;33m\u001b[0m\u001b[0m\n",
      "\u001b[1;31mNameError\u001b[0m: name 'append' is not defined"
     ]
    }
   ],
   "source": [
    "#12. Parse event logs and return count of unique strings by day/month/year\n",
    "\n",
    "# given event log:\n",
    "eventdict = {20190101:'A Few Words on Dictionaries',\n",
    "            20190110:'How to Iterate Through a Dictionary in Python The Basics',\n",
    "            20190123:'Modifying Values and Keys',\n",
    "            20190205:'Real World Examples',\n",
    "            20190219:'Using Comprehensions',\n",
    "            20190307:'Iterating in Sorted Order',\n",
    "            20190321:'Iterating Destructively With popitem',\n",
    "            20190330:'Using Some of Python Built In Functions',\n",
    "            20190403:'Using collections ChainMap',\n",
    "            20190415:'Using itertools',\n",
    "            20190422:'Using the Dictionary Unpacking Operator',\n",
    "            20190504:'Introducing the Pandas DataFrame',\n",
    "            20190606:'Creating a Pandas DataFrame',\n",
    "            20190708:'Retrieving Labels and Data',\n",
    "            20190720:'Accessing and Modifying Data',\n",
    "            20190817:'Inserting and Deleting Data',\n",
    "            20190912:'Applying NumPy and SciPy Functions',\n",
    "            20191105:'Sorting a Pandas DataFrame',\n",
    "            20200110:'Filtering Data',\n",
    "            20200109:'Determining Data Statistics',\n",
    "            20200115:'Iterating Over a Pandas DataFrame'}\n",
    "print(eventdict.keys())\n",
    "\n",
    "# def uniquestrings(logdict):\n",
    "#     for k,v in logdict.items():\n",
    "#         logtext = v\n",
    "#         logdate = k\n",
    "#         worddict = {}\n",
    "#         for word in v:\n",
    "#             if word not in worddict:\n",
    "#                 word \n",
    "        \n",
    "# uniquestrings(eventdict)\n",
    "import pandas as pd\n",
    "\n",
    "dates, events = list(eventdict.keys()),list(eventdict.values())\n",
    "# we could use dates, events = zip(*eventdict.items()) but it takes longer to unzip\n",
    "logdf = pd.DataFrame({'EventDate':dates,\n",
    "                     'Events':events})\n",
    "logdf['EventDate'] = pd.to_datetime(logdf['EventDate'],format = \"%Y%m%d\", yearfirst=True)\n",
    "# print(logdf.shape)\n",
    "# print(logdf.head(10))\n",
    "\n",
    "logdf['Year'] = pd.DatetimeIndex(logdf['EventDate']).year\n",
    "logdf['Month'] = pd.DatetimeIndex(logdf['EventDate']).month\n",
    "logdf['Date'] = pd.DatetimeIndex(logdf['EventDate']).day\n",
    "logdf['Day'] = logdf['EventDate'].dt.day_name()\n",
    "logdf['Strings']=logdf['Events'].str.split(\" \")\n",
    "# print(logdf.head(10))\n",
    "\n",
    "\n",
    "# list of unique words by month, day, year and day of the week (irrespective of year of the month, or month of the day)\n",
    "## This list will give event words that are unique to each date, year and month - like \"new year\" for the date 1, and Jan month\n",
    "# temp = (logdf.groupby('Year')['Events']\n",
    "#         .apply(lambda x: ' '.join(x))\n",
    "#         .reset_index())\n",
    "temp = (logdf.groupby('Year')['Strings']\n",
    "        .transform(lambda x: append(x))\n",
    "        .reset_index())\n",
    "# temp['Events'] = temp['Events'].str.split(\" \")\n",
    "\n",
    "print(temp)\n",
    "year_words = temp\n",
    "\n",
    "# list of unique words by month-year combination\n",
    "# tempseries = pd.Series(pd.DatetimeIndex(logdf.EventDate).to_period('D'), index=logdf.index)\n",
    "# logdf['Month unique'] = tempseries.groupby(logdf.Events).transform('nunique')\n",
    "# print(logdf[['Month','Month unique']])\n",
    "\n",
    "\n",
    "######## Incomplete will update soon"
   ]
  },
  {
   "cell_type": "code",
   "execution_count": 12,
   "id": "d167901f",
   "metadata": {},
   "outputs": [
    {
     "name": "stdout",
     "output_type": "stream",
     "text": [
      "\n",
      "Printing float range\n",
      "\n",
      "Test 1:  0.1, 0.6, 1.1, 1.6, 2.1, 2.6, 3.1, 3.6, 4.1, 4.6, \n",
      "Test 2:  -5, -3.5, -2, -0.5, 1, 2.5, 4, \n",
      "Test 3:  0, 1, 2, 3, 4, 5, \n",
      "Test 4:  10.1, 11.1, 12.1, 13.1, 14.1, 15.1, 16.1, 17.1, 18.1, 19.1, "
     ]
    }
   ],
   "source": [
    "#13. Define  function to create a sequence of floating point numbers in the given range, with given increments\n",
    "\"\"\"\n",
    "Desc : This function generates a float range of numbers w/o using any library.\n",
    "\n",
    "Params :\n",
    "A (int/float) : First number in the range\n",
    "L (int/float) : Last number in the range\n",
    "D (int/float) : Step or the common difference\n",
    "\"\"\"\n",
    "def float_range(A, L=None, D=None):\n",
    "    #Use float number in range() function\n",
    "    # if L and D argument is null set A=0.0 and D = 1.0\n",
    "    if L == None:\n",
    "        L = A + 0.0\n",
    "        A = 0.0\n",
    "    if D == None:\n",
    "        D = 1.0\n",
    "    while True:\n",
    "        if D > 0 and A >= L:\n",
    "            break\n",
    "        elif D < 0 and A <= L:\n",
    "            break\n",
    "        yield (\"%g\" % A) # return float number\n",
    "        A = A + D\n",
    "#end of function float_range()\n",
    "\n",
    "\"\"\"\n",
    "Desc: This section calls the above function with different test data.\n",
    "\"\"\"\n",
    "print (\"\\nPrinting float range\")\n",
    "print (\"\\nTest 1: \", end = \" \")\n",
    "for i in float_range(0.1, 5.0, 0.5):\n",
    "    print (i, end=\", \")\n",
    "\n",
    "print (\"\\nTest 2: \", end = \" \")\n",
    "for i in float_range(-5.0, 5.0, 1.5):\n",
    "    print (i, end=\", \")\n",
    "\n",
    "print (\"\\nTest 3: \", end = \" \")\n",
    "for num in float_range(5.5):\n",
    "    print (num, end=\", \")\n",
    "\n",
    "print (\"\\nTest 4: \", end = \" \")\n",
    "for num in float_range(10.1, 20.1):\n",
    "    print (num, end=\", \")"
   ]
  },
  {
   "cell_type": "code",
   "execution_count": 13,
   "id": "27971256",
   "metadata": {},
   "outputs": [
    {
     "name": "stdout",
     "output_type": "stream",
     "text": [
      "Please enter a positive integer:500\n",
      "[1, 2, 'Fizz', 4, 'Buzz', 'Fizz', 7, 8, 'Fizz', 'Buzz', 11, 'Fizz', 13, 14, 'FizzBuzz', 16, 17, 'Fizz', 19, 'Buzz', 'Fizz', 22, 23, 'Fizz', 'Buzz', 26, 'Fizz', 28, 29, 'FizzBuzz', 31, 32, 'Fizz', 34, 'Buzz', 'Fizz', 37, 38, 'Fizz', 'Buzz', 41, 'Fizz', 43, 44, 'FizzBuzz', 46, 47, 'Fizz', 49, 'Buzz', 'Fizz', 52, 53, 'Fizz', 'Buzz', 56, 'Fizz', 58, 59, 'FizzBuzz', 61, 62, 'Fizz', 64, 'Buzz', 'Fizz', 67, 68, 'Fizz', 'Buzz', 71, 'Fizz', 73, 74, 'FizzBuzz', 76, 77, 'Fizz', 79, 'Buzz', 'Fizz', 82, 83, 'Fizz', 'Buzz', 86, 'Fizz', 88, 89, 'FizzBuzz', 91, 92, 'Fizz', 94, 'Buzz', 'Fizz', 97, 98, 'Fizz', 'Buzz', 101, 'Fizz', 103, 104, 'FizzBuzz', 106, 107, 'Fizz', 109, 'Buzz', 'Fizz', 112, 113, 'Fizz', 'Buzz', 116, 'Fizz', 118, 119, 'FizzBuzz', 121, 122, 'Fizz', 124, 'Buzz', 'Fizz', 127, 128, 'Fizz', 'Buzz', 131, 'Fizz', 133, 134, 'FizzBuzz', 136, 137, 'Fizz', 139, 'Buzz', 'Fizz', 142, 143, 'Fizz', 'Buzz', 146, 'Fizz', 148, 149, 'FizzBuzz', 151, 152, 'Fizz', 154, 'Buzz', 'Fizz', 157, 158, 'Fizz', 'Buzz', 161, 'Fizz', 163, 164, 'FizzBuzz', 166, 167, 'Fizz', 169, 'Buzz', 'Fizz', 172, 173, 'Fizz', 'Buzz', 176, 'Fizz', 178, 179, 'FizzBuzz', 181, 182, 'Fizz', 184, 'Buzz', 'Fizz', 187, 188, 'Fizz', 'Buzz', 191, 'Fizz', 193, 194, 'FizzBuzz', 196, 197, 'Fizz', 199, 'Buzz', 'Fizz', 202, 203, 'Fizz', 'Buzz', 206, 'Fizz', 208, 209, 'FizzBuzz', 211, 212, 'Fizz', 214, 'Buzz', 'Fizz', 217, 218, 'Fizz', 'Buzz', 221, 'Fizz', 223, 224, 'FizzBuzz', 226, 227, 'Fizz', 229, 'Buzz', 'Fizz', 232, 233, 'Fizz', 'Buzz', 236, 'Fizz', 238, 239, 'FizzBuzz', 241, 242, 'Fizz', 244, 'Buzz', 'Fizz', 247, 248, 'Fizz', 'Buzz', 251, 'Fizz', 253, 254, 'FizzBuzz', 256, 257, 'Fizz', 259, 'Buzz', 'Fizz', 262, 263, 'Fizz', 'Buzz', 266, 'Fizz', 268, 269, 'FizzBuzz', 271, 272, 'Fizz', 274, 'Buzz', 'Fizz', 277, 278, 'Fizz', 'Buzz', 281, 'Fizz', 283, 284, 'FizzBuzz', 286, 287, 'Fizz', 289, 'Buzz', 'Fizz', 292, 293, 'Fizz', 'Buzz', 296, 'Fizz', 298, 299, 'FizzBuzz', 301, 302, 'Fizz', 304, 'Buzz', 'Fizz', 307, 308, 'Fizz', 'Buzz', 311, 'Fizz', 313, 314, 'FizzBuzz', 316, 317, 'Fizz', 319, 'Buzz', 'Fizz', 322, 323, 'Fizz', 'Buzz', 326, 'Fizz', 328, 329, 'FizzBuzz', 331, 332, 'Fizz', 334, 'Buzz', 'Fizz', 337, 338, 'Fizz', 'Buzz', 341, 'Fizz', 343, 344, 'FizzBuzz', 346, 347, 'Fizz', 349, 'Buzz', 'Fizz', 352, 353, 'Fizz', 'Buzz', 356, 'Fizz', 358, 359, 'FizzBuzz', 361, 362, 'Fizz', 364, 'Buzz', 'Fizz', 367, 368, 'Fizz', 'Buzz', 371, 'Fizz', 373, 374, 'FizzBuzz', 376, 377, 'Fizz', 379, 'Buzz', 'Fizz', 382, 383, 'Fizz', 'Buzz', 386, 'Fizz', 388, 389, 'FizzBuzz', 391, 392, 'Fizz', 394, 'Buzz', 'Fizz', 397, 398, 'Fizz', 'Buzz', 401, 'Fizz', 403, 404, 'FizzBuzz', 406, 407, 'Fizz', 409, 'Buzz', 'Fizz', 412, 413, 'Fizz', 'Buzz', 416, 'Fizz', 418, 419, 'FizzBuzz', 421, 422, 'Fizz', 424, 'Buzz', 'Fizz', 427, 428, 'Fizz', 'Buzz', 431, 'Fizz', 433, 434, 'FizzBuzz', 436, 437, 'Fizz', 439, 'Buzz', 'Fizz', 442, 443, 'Fizz', 'Buzz', 446, 'Fizz', 448, 449, 'FizzBuzz', 451, 452, 'Fizz', 454, 'Buzz', 'Fizz', 457, 458, 'Fizz', 'Buzz', 461, 'Fizz', 463, 464, 'FizzBuzz', 466, 467, 'Fizz', 469, 'Buzz', 'Fizz', 472, 473, 'Fizz', 'Buzz', 476, 'Fizz', 478, 479, 'FizzBuzz', 481, 482, 'Fizz', 484, 'Buzz', 'Fizz', 487, 488, 'Fizz', 'Buzz', 491, 'Fizz', 493, 494, 'FizzBuzz', 496, 497, 'Fizz', 499, 'Buzz']\n"
     ]
    }
   ],
   "source": [
    "#14. Given an integer n, return a string array result of length n where:\n",
    "# result[i] == “FizzBuzz” if i is divisible by 3 and 5.\n",
    "# result[i] == “Fizz” if i is divisible by 3.\n",
    "# result[i] == “Buzz” if i is divisible by 5.\n",
    "# result[i] == i in any other case.\n",
    "\n",
    "n = int(input(\"Please enter a positive integer:\"))\n",
    "result = []\n",
    "for i in range(1,n+1):\n",
    "    if (i%3==0) :\n",
    "        if i%5==0:                        # if you add (i%3==0 & i%5==0) as an elif block in the end, the control will \n",
    "            result.append(\"FizzBuzz\")     # never get to this block, but will be caught by i%3==0 or i%5==0 blocks\n",
    "            continue\n",
    "        else:\n",
    "            result.append(\"Fizz\")\n",
    "            continue\n",
    "    if i%5 == 0:\n",
    "        result.append(\"Buzz\")\n",
    "        continue\n",
    "    else:\n",
    "        result.append(i)\n",
    "        \n",
    "print(result)"
   ]
  },
  {
   "cell_type": "code",
   "execution_count": 14,
   "id": "c0dcd90d",
   "metadata": {},
   "outputs": [
    {
     "name": "stdout",
     "output_type": "stream",
     "text": [
      "Please enter a positive/negtive integer:6565656565656565656565656565\n",
      "The reversed number is  0\n"
     ]
    }
   ],
   "source": [
    "#15. Given a signed (positive or negative) integer x, return x with its digits reversed. \n",
    "# The input integer x must be in range [-2^31, 2^31 - 1] – return 0 if it isn’t.\n",
    "\n",
    "x = int(input(\"Please enter a positive/negtive integer:\"))\n",
    "\n",
    "def reverseint(num):\n",
    "    sign = int(num/abs(num))\n",
    "    rev = 0\n",
    "    while (num != 0):\n",
    "        if num >= 2** 31 -1 or num <= -2** 31:\n",
    "            return 0\n",
    "        else:\n",
    "                num = abs(num)\n",
    "                pop = num % 10\n",
    "                num = int(num/10)\n",
    "                rev = int(rev * 10 + pop)\n",
    "    #end of while loop\n",
    "    \n",
    "    return(sign*rev)\n",
    "    \n",
    "print(\"The reversed number is \", reverseint(x))"
   ]
  },
  {
   "cell_type": "code",
   "execution_count": 15,
   "id": "7bde4752",
   "metadata": {},
   "outputs": [
    {
     "name": "stdout",
     "output_type": "stream",
     "text": [
      "Please input a string: bdhbxfsbsfhghd\n",
      "The first non-repeating character in the string is x and its index is 4\n"
     ]
    },
    {
     "data": {
      "text/plain": [
       "4"
      ]
     },
     "execution_count": 15,
     "metadata": {},
     "output_type": "execute_result"
    }
   ],
   "source": [
    "#16. Given a string s, find the first non-repeating character and return its index. If it doesn’t exist, return -1.\n",
    "\n",
    "import re\n",
    "\n",
    "x = str(input(\"Please input a string: \"))\n",
    "def nonrepeat(string):\n",
    "    string = string.lower()\n",
    "    string = re.sub(\"[\\s]\",\"\",string)\n",
    "    stringdict = {}\n",
    "    for p in range(0,len(string)):\n",
    "        i = string[p]\n",
    "        if i not in stringdict:\n",
    "            stringdict[i] = [p]    #stringdict[i] = set([p]) if you want the values to be a set\n",
    "        else:\n",
    "            stringdict[i].append(p) # stringdict[i].add(p) if you use set([p]) above. The value for each key would be {1,2,..}\n",
    "    \n",
    "    lengthdict={}\n",
    "    for k,v in stringdict.items():\n",
    "        if len(v)==1:\n",
    "            char = k\n",
    "            index = v[0]\n",
    "            print(\"The first non-repeating character in the string is\",char, \"and its index is\",index)\n",
    "            return(index)\n",
    "            break\n",
    "        elif len(v)>1:\n",
    "            lengthdict[k] = len(v)\n",
    "            continue\n",
    "\n",
    "    maxlen=0\n",
    "    for v in lengthdict.values():\n",
    "        if v>maxlen:\n",
    "            maxlen=v\n",
    "        else:\n",
    "            continue\n",
    "            \n",
    "    if maxlen>1:\n",
    "        print(\"A non-repeating charecter doesn't exist in the entered string.\")\n",
    "        return(-1)\n",
    "\n",
    "nonrepeat(x)"
   ]
  },
  {
   "cell_type": "code",
   "execution_count": 16,
   "id": "bf264878",
   "metadata": {},
   "outputs": [
    {
     "name": "stdout",
     "output_type": "stream",
     "text": [
      "First non-repeating character is   and its position in string is 4\n"
     ]
    }
   ],
   "source": [
    "#16. Python program to print the first non-repeating character - the solution from geekforgeeks  \n",
    "\n",
    "# It involves counting each occurence of 256 characters using ord() and creating a count vector then finding out the first non-repeted character\n",
    "# ord() fucntion converts a character into its Unicode code value\n",
    "# This solution works only for 0-255 unicode characters\n",
    "\n",
    "NO_OF_CHARS = 256\n",
    " \n",
    "# Returns an array of size 256 containing count\n",
    "# of characters in the passed char array\n",
    "def getCharCountArray(string):\n",
    "    count = [0] * NO_OF_CHARS\n",
    "    for i in string:\n",
    "        count[ord(i)]+= 1\n",
    "    return count\n",
    " \n",
    "# The function returns index of first non-repeating\n",
    "# character in a string. If all characters are repeating\n",
    "# then returns -1\n",
    "def firstNonRepeating(string):\n",
    "    count = getCharCountArray(string)\n",
    "    index = -1\n",
    "    k = 0\n",
    " \n",
    "    for i in string:\n",
    "        if count[ord(i)] == 1:\n",
    "            index = k\n",
    "            break\n",
    "        k += 1\n",
    " \n",
    "    return index\n",
    " \n",
    "# Driver program to test above function\n",
    "string = \"abab huhu\" #;';huhijlgeeksforgeeks\n",
    "index = firstNonRepeating(string)\n",
    "if index == -1:\n",
    "    print (\"Either all characters are repeating or string is empty\")\n",
    "else:\n",
    "    print (\"First non-repeating character is\" , string[index], \"and its position in string is\", index)"
   ]
  },
  {
   "cell_type": "code",
   "execution_count": 17,
   "id": "5b011759",
   "metadata": {},
   "outputs": [
    {
     "name": "stdout",
     "output_type": "stream",
     "text": [
      "Enter string:annakarenina;'\n",
      "{'a': [0, 3, 5, 11], 'n': [1, 2, 8, 10], 'k': [4], 'r': [6], 'e': [7], 'i': [9], ';': [12], \"'\": [13]}\n",
      "[0, 0, 0, 0, 1, 0, 1, 1, 0, 1, 0, 0, 1, 1]\n",
      "The longest substring with non-repeating characters is: re\n"
     ]
    }
   ],
   "source": [
    "#16b. In a given string, find the longest substring without repeating characters\n",
    "\n",
    "string = str(input(\"Enter string:\"))\n",
    "countdict = {}\n",
    "## populating countdict with the characters as key and the indices they appear at as value (a list)\n",
    "for i in range(0,len(string)):\n",
    "    p = string[i]\n",
    "    if p not in countdict:\n",
    "        countdict[p] = [i]\n",
    "    else:\n",
    "        countdict[p].append(i)\n",
    "print(countdict)  # dictionary with indices for each character in the string\n",
    "countlist = [1] * len(string)  # create countlist with same number of 1s as there are characters in the string\n",
    "## populate countlist with number of appearances for each character \n",
    "for v in countdict.values():\n",
    "    if len(v)>1:\n",
    "        for i in v:\n",
    "            countlist[i] = 0\n",
    "    else:\n",
    "        continue\n",
    "print(countlist)  # list of counts - the indices with 0 in the countlist correspond to characters in string that are repeated\n",
    "substr = []\n",
    "subsubstr=[]\n",
    "lengthdict = {}\n",
    "for i in range(0,len(countlist)):\n",
    "    ind = countlist[i]\n",
    "    if ind==1:\n",
    "        subsubstr.append(string[i])\n",
    "        j+=1\n",
    "    if ind==0:\n",
    "        subsubstr = []\n",
    "        j=0\n",
    "    \n",
    "    substr.append(subsubstr)\n",
    "    lengthdict[(''.join(subsubstr))] = j\n",
    "        \n",
    "# max(lengthdict, key = lengthdict.get) gets the key with the largest value in lengthdict\n",
    "print(\"The longest substring with non-repeating characters is:\", max(lengthdict, key = lengthdict.get))"
   ]
  },
  {
   "cell_type": "code",
   "execution_count": 18,
   "id": "b7681403",
   "metadata": {},
   "outputs": [
    {
     "name": "stdout",
     "output_type": "stream",
     "text": [
      "Please enter IP address: 127.9.0.128\n",
      "The defanged IP address is: 127[.]9[.]0[.]128\n"
     ]
    }
   ],
   "source": [
    "#17.  Given a valid (IPv4) IP address, return its defanged version. A defanged IP address replaces every period . with [.]. \n",
    "# Example 127.0.0.1. when defanged is 127[.]0[.]0[.]1. Easy!\n",
    "\n",
    "import re\n",
    "\n",
    "ip = str(input(\"Please enter IP address: \"))\n",
    "def defangIP(addr):\n",
    "    addr = re.sub(\"\\.\",\"[.]\",addr)      # escape character for . is required in match string, not replacement string\n",
    "    return(addr)\n",
    "\n",
    "print(\"The defanged IP address is:\", defangIP(ip))"
   ]
  },
  {
   "cell_type": "code",
   "execution_count": 19,
   "id": "4db50a03",
   "metadata": {},
   "outputs": [
    {
     "name": "stdout",
     "output_type": "stream",
     "text": [
      "Enter first string:set\n",
      "Enter second string:for\n",
      "{'e': 1, 's': 1, 't': 1}\n",
      "{'f': 1, 'o': 1, 'r': 1}\n",
      "The 2 strings are not anagrams.\n"
     ]
    }
   ],
   "source": [
    "#18.  Given two strings a and b, return True if b is an anagram of a, and False otherwise.\n",
    "\n",
    "#Two strings can’t be anagrams if they aren’t of the same length, so you’ll have to check for that first. \n",
    "#If the length check passes, you can then store individual letters and their counts in two Python dictionaries – one for each word. \n",
    "#If the dictionaries are identical, the strings are anagrams:\n",
    "\n",
    "string1 = str(input(\"Enter first string:\"))\n",
    "string2 = str(input(\"Enter second string:\"))\n",
    "\n",
    "def checkanagram(s1,s2):\n",
    "    s1 = s1.strip()\n",
    "    s2 = s2.strip()\n",
    "    \n",
    "    if len(s1) ==0 or len(s2)==0:\n",
    "        print(\"Please enter valid strings.\")\n",
    "        \n",
    "    if len(s1) == len(s2):\n",
    "        s1dict = {}\n",
    "        for p in range(0,len(s1)):\n",
    "            i = s1[p]\n",
    "            if i not in s1dict:\n",
    "                s1dict[i] = 1   # set counter value to 1\n",
    "            else:\n",
    "                s1dict[i]+=1    # increment counter value by 1\n",
    "                \n",
    "        s2dict = {}\n",
    "        for p in range(0,len(s2)):\n",
    "            i = s2[p]\n",
    "            if i not in s2dict:\n",
    "                s2dict[i] = 1\n",
    "            else:\n",
    "                s2dict[i]+=1\n",
    "            \n",
    "        #sorting s1dict and s2dict to compare\n",
    "        s1dict = {key:s1dict[key] for key in sorted(s1dict.keys())}\n",
    "        s2dict = {key:s2dict[key] for key in sorted(s2dict.keys())}\n",
    "        print(s1dict)\n",
    "        print(s2dict)\n",
    "        \n",
    "        if s1dict == s2dict:\n",
    "            print(\"The 2 strings are anagrams.\")\n",
    "        else:\n",
    "            print(\"The 2 strings are not anagrams.\")\n",
    "            \n",
    "    else:\n",
    "        print(\"The 2 strings are not anagrams.\")\n",
    "            \n",
    "checkanagram(string1,string2)"
   ]
  },
  {
   "cell_type": "code",
   "execution_count": 20,
   "id": "5ba67857",
   "metadata": {},
   "outputs": [
    {
     "name": "stdout",
     "output_type": "stream",
     "text": [
      "amanaplanacanalpanama\n",
      "amanaplanacanalpanama\n",
      "The string is a panlindrome\n"
     ]
    }
   ],
   "source": [
    "#19. Given a string s, return True if it’s a palindrome, or False otherwise.\n",
    "\n",
    "import re\n",
    "import random\n",
    "\n",
    "# generate a random string of n characters\n",
    "# n=10\n",
    "# randstring = ''.join(random.sample(string.ascii_letters, n))\n",
    "# print(\"Random string with\",n,\"characters:\", randstring)\n",
    "\n",
    "randstring = \"A man, a plan, a canal: panama\"\n",
    "randstring = randstring.lower()\n",
    "randstring = re.sub(r\"[^a-z]*\",\"\",randstring)\n",
    "print(randstring)\n",
    "randstring_rev = \"\".join(reversed(randstring)) ##reversing a string using the reversed function\n",
    "print(randstring_rev)\n",
    "if randstring == randstring_rev:\n",
    "    print(\"The string is a panlindrome\")\n",
    "else:\n",
    "    print(\"The string is not a palindrome\")"
   ]
  },
  {
   "cell_type": "code",
   "execution_count": 21,
   "id": "42da8736",
   "metadata": {},
   "outputs": [
    {
     "name": "stdout",
     "output_type": "stream",
     "text": [
      "Please enter a positive integer:50\n",
      "The factorial of 50 is: 30414093201713378043612608166064768844377641568960512000000000000\n"
     ]
    }
   ],
   "source": [
    "#20. Given a positive integer x, return an integer that is a factorial of x. (0! = 1)\n",
    "# If a negative integer is provided, return -1. Implement the solution by using a recursive function.\n",
    "\n",
    "n = int(input(\"Please enter a positive integer:\"))\n",
    "def fact(n):\n",
    "    if n<0:\n",
    "        return(-1)\n",
    "    elif n==0:\n",
    "        return(1)\n",
    "    elif n>0:\n",
    "        return(n*fact(n-1))\n",
    "    \n",
    "print(\"The factorial of\",n,\"is:\",fact(n))"
   ]
  },
  {
   "cell_type": "code",
   "execution_count": 22,
   "id": "d3c64c6d",
   "metadata": {},
   "outputs": [
    {
     "name": "stdout",
     "output_type": "stream",
     "text": [
      "2017-08-02 21:03:00-03:00\n"
     ]
    }
   ],
   "source": [
    "#21. Given a date time string, chnge the time zone\n",
    "import pytz\n",
    "import datetime\n",
    "\n",
    "a = u'2017-08-03T00:03:00.000000Z'\n",
    "local_tz = pytz.timezone('America/Sao_Paulo')\n",
    "local_dt = datetime.datetime.strptime(a, '%Y-%m-%dT%H:%M:%S.000000Z').replace(tzinfo=pytz.utc).astimezone(local_tz)\n",
    "print(local_dt)"
   ]
  },
  {
   "cell_type": "code",
   "execution_count": null,
   "id": "b7847af6",
   "metadata": {},
   "outputs": [],
   "source": [
    "#22. Given an input string s and a pattern p, implement regular expression matching with support for '.' and '*' where:\n",
    "# '.' Matches any single character.\n",
    "# '*' Matches zero or more of the preceding element.\n",
    "# The matching should cover the entire input string (not partial).\n",
    "# Constraints:\n",
    "# 1 <= s.length <= 20\n",
    "# 1 <= p.length <= 30\n",
    "# s contains only lowercase English letters.\n",
    "# p contains only lowercase English letters, '.', and '*'.\n",
    "# It is guaranteed for each appearance of the character '*', there will be a previous valid character to match.\n",
    "\n",
    "### ---- Leetcode solution: https://leetcode.com/problems/regular-expression-matching/solution/"
   ]
  },
  {
   "cell_type": "code",
   "execution_count": 23,
   "id": "1cc4c9d3",
   "metadata": {},
   "outputs": [
    {
     "name": "stdout",
     "output_type": "stream",
     "text": [
      "Enter an integer:3549\n"
     ]
    },
    {
     "data": {
      "text/plain": [
       "'MMMDXLIX'"
      ]
     },
     "execution_count": 23,
     "metadata": {},
     "output_type": "execute_result"
    }
   ],
   "source": [
    "#23. Symbol       Value\n",
    "# I             1\n",
    "# V             5\n",
    "# X             10\n",
    "# L             50\n",
    "# C             100\n",
    "# D             500\n",
    "# M             1000\n",
    "# Given an integer, convert it to a roman numeral.\n",
    "# 1 <= num <= 3999\n",
    "### ---- Leetcode solution: https://leetcode.com/problems/integer-to-roman/solution/\n",
    "## In this problem, pay special attention to numbers like 4,9,40,90,400,900,... they are represented as IV,IX,XL,XC,...\n",
    "##                  and 99 is represented as XCIX instead of IC\n",
    "\n",
    "x = int(input(\"Enter an integer:\"))\n",
    "def inttoroman(number):\n",
    "    num = [1000,900,500,400,100,90,50,40,10,9,5,4,1]\n",
    "    rom = ['M','CM','D','CD','C','XC','L','XL','X','IX','V','IV','I']\n",
    "    if number<1:\n",
    "        print(\"Enter a positive integer between 1 and 3999\")\n",
    "    elif number>3999:\n",
    "        print(\"Enter a positive integer between 1 and 3999\")\n",
    "    elif (number>=1 & number<=3999): \n",
    "        i=0\n",
    "        romannumeral = ''\n",
    "        while number>=1:\n",
    "            dig = int(number/num[i])  # or number//num[i]\n",
    "            number = number%num[i]\n",
    "            romannumeral+=dig*rom[i]\n",
    "            i+=1\n",
    "        #end of while loop\n",
    "        return(romannumeral)\n",
    "\n",
    "inttoroman(x)"
   ]
  },
  {
   "cell_type": "code",
   "execution_count": 24,
   "id": "7603b715",
   "metadata": {},
   "outputs": [
    {
     "name": "stdout",
     "output_type": "stream",
     "text": [
      "Enter an integer:49\n",
      "The roman form of integer is: XLIX\n"
     ]
    }
   ],
   "source": [
    "###23. Alternatively, using a dict\n",
    "x = int(input(\"Enter an integer:\"))\n",
    "def inttoroman(number):\n",
    "    romdict = {1:'I',5:'V',10:'X',50:'L',100:'C',500:'D',1000:'M'}\n",
    "    diff = [100,100,10,10,1,1,1]\n",
    "    num = [1000,500,100,50,10,5,1]\n",
    "    if number<1:\n",
    "        print(\"Enter a positive integer between 1 and 3999\")\n",
    "    elif number>3999:\n",
    "        print(\"Enter a positive integer between 1 and 3999\")\n",
    "    elif (number>=1 & number<=3999): \n",
    "        i=0\n",
    "        romnumeral = ''\n",
    "        while number>=1:\n",
    "            if(number<num[i] and number>=(num[i]-diff[i])):\n",
    "                romnumeral+=romdict[diff[i]]\n",
    "                number = int(number%diff[i])\n",
    "                romnumeral+=romdict[num[i]]\n",
    "                i+=1\n",
    "            \n",
    "            elif number>0:\n",
    "                dig = int(number/num[i])  # or number//num[i]\n",
    "                number = number%num[i]   \n",
    "                romnumeral+=dig*romdict[num[i]]\n",
    "                i+=1\n",
    "        #end of while loop\n",
    "            else:\n",
    "                return(romnumeral)\n",
    "        return(romnumeral)\n",
    "\n",
    "print(\"The roman form of integer is:\",inttoroman(x))"
   ]
  },
  {
   "cell_type": "code",
   "execution_count": 26,
   "id": "9956bf93",
   "metadata": {},
   "outputs": [
    {
     "name": "stdout",
     "output_type": "stream",
     "text": [
      "Enter a string:kare;\n",
      "Enter a string with no special characters\n",
      "\n",
      "Length is:  0\n"
     ]
    }
   ],
   "source": [
    "#24. Given a string s, return the longest palindromic substring in s.\n",
    "# Example: Input: s = \"babad\"\n",
    "# Output: \"bab\"\n",
    "# Explanation: \"aba\" is also a valid answer.\n",
    "# Constraints:\n",
    "# 1 <= s.length <= 1000\n",
    "# s consist of only digits and English letters.\n",
    "### ---- Leetcode solution: https://leetcode.com/problems/longest-palindromic-substring/solution/\n",
    "\n",
    "# Function to print substring[low..high]\n",
    "import re\n",
    "def printSubStr(str, low, high):\n",
    "    for i in range(low, high + 1):\n",
    "        print(str[i], end = \"\")\n",
    "\n",
    "def longestPalSubstr(string):\n",
    "    # Get length of input String\n",
    "    n = len(string)\n",
    "    string = string.lower()\n",
    "    if n>1000:\n",
    "        print(\"Enter a string with less than 1000 characters\")\n",
    "        return 0\n",
    "    \n",
    "    if re.search('[^a-z0-9]',string) is not None:\n",
    "        print(\"Enter a string with no special characters\")\n",
    "        return 0\n",
    "    \n",
    "    # All subStrings of length 1 are palindromes\n",
    "    maxLength = 1\n",
    "    start = 0\n",
    "     \n",
    "    # Nested loop to mark start and end index\n",
    "    for i in range(n):\n",
    "        for j in range(i, n):\n",
    "            flag = 1\n",
    "             \n",
    "            # Check palindrome\n",
    "            for k in range(0, ((j - i) // 2) + 1):\n",
    "                if (str[i + k] != str[j - k]):\n",
    "                    flag = 0\n",
    "                    \n",
    "                    # Palindrome\n",
    "            if (flag != 0 and (j - i + 1) > maxLength):\n",
    "                start = i\n",
    "                maxLength = j - i + 1\n",
    "                 \n",
    "    print(\"Longest palindrome substring is: \", end = \"\")\n",
    "    printSubStr(str, start, start + maxLength - 1)\n",
    " \n",
    "    # Return length of LPS\n",
    "    return maxLength\n",
    " \n",
    "# Driver Code\n",
    "if __name__ == '__main__':\n",
    "    s = input(\"Enter a string:\")\n",
    "    print(\"\\nLength is: \", longestPalSubstr(s))"
   ]
  },
  {
   "cell_type": "code",
   "execution_count": 27,
   "id": "e912d6c3",
   "metadata": {},
   "outputs": [
    {
     "name": "stdout",
     "output_type": "stream",
     "text": [
      "Enter a string:gifting seson\n"
     ]
    },
    {
     "ename": "TypeError",
     "evalue": "'type' object is not subscriptable",
     "output_type": "error",
     "traceback": [
      "\u001b[1;31m---------------------------------------------------------------------------\u001b[0m",
      "\u001b[1;31mTypeError\u001b[0m                                 Traceback (most recent call last)",
      "\u001b[1;32m~\\AppData\\Local\\Temp/ipykernel_3824/3961708977.py\u001b[0m in \u001b[0;36m<module>\u001b[1;34m\u001b[0m\n\u001b[0;32m     33\u001b[0m \u001b[1;33m\u001b[0m\u001b[0m\n\u001b[0;32m     34\u001b[0m     \u001b[1;32mreturn\u001b[0m \u001b[0mmaxlen\u001b[0m\u001b[1;33m\u001b[0m\u001b[1;33m\u001b[0m\u001b[0m\n\u001b[1;32m---> 35\u001b[1;33m \u001b[0mlent\u001b[0m \u001b[1;33m=\u001b[0m \u001b[0mnonrepeatsubstrlen\u001b[0m\u001b[1;33m(\u001b[0m\u001b[0mstring\u001b[0m\u001b[1;33m)\u001b[0m\u001b[1;33m\u001b[0m\u001b[1;33m\u001b[0m\u001b[0m\n\u001b[0m\u001b[0;32m     36\u001b[0m \u001b[0mprint\u001b[0m\u001b[1;33m(\u001b[0m\u001b[1;34m\"The length of the longest non-repeating character substring is \"\u001b[0m\u001b[1;33m,\u001b[0m \u001b[0mlent\u001b[0m\u001b[1;33m)\u001b[0m\u001b[1;33m\u001b[0m\u001b[1;33m\u001b[0m\u001b[0m\n\u001b[0;32m     37\u001b[0m \u001b[1;33m\u001b[0m\u001b[0m\n",
      "\u001b[1;32m~\\AppData\\Local\\Temp/ipykernel_3824/3961708977.py\u001b[0m in \u001b[0;36mnonrepeatsubstrlen\u001b[1;34m(s)\u001b[0m\n\u001b[0;32m     21\u001b[0m         \u001b[1;32mfor\u001b[0m \u001b[0mj\u001b[0m \u001b[1;32min\u001b[0m \u001b[0mrange\u001b[0m\u001b[1;33m(\u001b[0m\u001b[0mi\u001b[0m\u001b[1;33m,\u001b[0m \u001b[0mn\u001b[0m\u001b[1;33m)\u001b[0m\u001b[1;33m:\u001b[0m\u001b[1;33m\u001b[0m\u001b[1;33m\u001b[0m\u001b[0m\n\u001b[0;32m     22\u001b[0m             \u001b[1;31m# Break out of this for loop if the character is already parsed\u001b[0m\u001b[1;33m\u001b[0m\u001b[1;33m\u001b[0m\u001b[1;33m\u001b[0m\u001b[0m\n\u001b[1;32m---> 23\u001b[1;33m             \u001b[1;32mif\u001b[0m \u001b[1;33m(\u001b[0m\u001b[0mparsed\u001b[0m\u001b[1;33m[\u001b[0m\u001b[0mord\u001b[0m\u001b[1;33m(\u001b[0m\u001b[0mstr\u001b[0m\u001b[1;33m[\u001b[0m\u001b[0mj\u001b[0m\u001b[1;33m]\u001b[0m\u001b[1;33m)\u001b[0m\u001b[1;33m]\u001b[0m \u001b[1;33m==\u001b[0m \u001b[1;32mTrue\u001b[0m\u001b[1;33m)\u001b[0m\u001b[1;33m:\u001b[0m\u001b[1;33m\u001b[0m\u001b[1;33m\u001b[0m\u001b[0m\n\u001b[0m\u001b[0;32m     24\u001b[0m                 \u001b[1;32mbreak\u001b[0m\u001b[1;33m\u001b[0m\u001b[1;33m\u001b[0m\u001b[0m\n\u001b[0;32m     25\u001b[0m \u001b[1;33m\u001b[0m\u001b[0m\n",
      "\u001b[1;31mTypeError\u001b[0m: 'type' object is not subscriptable"
     ]
    }
   ],
   "source": [
    "#25. Given a string s, find the length of the longest substring without repeating characters.\n",
    "# Example:Input: s = \"abcabcbb\"\n",
    "# Output: 3\n",
    "# Explanation: The answer is \"abc\", with the length of 3.\n",
    "# Constraints:\n",
    "# 0 <= s.length <= 5 * 104\n",
    "# s consists of English letters, digits, symbols and spaces.\n",
    "\n",
    "import re\n",
    "\n",
    "string = str(input(\"Enter a string:\"))\n",
    "def nonrepeatsubstrlen(s):\n",
    "    s = s.lower()\n",
    "    s = re.sub(\"[\\s]\",\"\",s)\n",
    "    maxlen = 0\n",
    "    n = len(s)\n",
    "    for i in range(n):\n",
    "        \n",
    "        parsed = [0] * 256  \n",
    "  \n",
    "        for j in range(i, n):\n",
    "            # Break out of this for loop if the character is already parsed\n",
    "            if (parsed[ord(str[j])] == True):\n",
    "                break\n",
    "  \n",
    "            # If chracter not parsed,then update maxlen and mark the character is parsed in the parsed array\n",
    "            else:\n",
    "                maxlen = max(maxlen, j - i + 1)\n",
    "                parsed[ord(str[j])] = True\n",
    "             \n",
    "        # Remove the first character of previous window\n",
    "        parsed[ord(str[i])] = False\n",
    "     \n",
    "    return maxlen\n",
    "lent = nonrepeatsubstrlen(string)\n",
    "print(\"The length of the longest non-repeating character substring is \", lent)\n",
    " "
   ]
  },
  {
   "cell_type": "code",
   "execution_count": null,
   "id": "7907bcb7",
   "metadata": {},
   "outputs": [],
   "source": [
    "#26. Given an array nums of n integers, return an array of all the unique quadruplets [nums[a], nums[b], nums[c], nums[d]] such that:\n",
    "# 0 <= a, b, c, d < n\n",
    "# a, b, c, and d are distinct.\n",
    "# nums[a] + nums[b] + nums[c] + nums[d] == target\n",
    "# You may return the answer in any order.\n",
    "# Example: Input: nums = [1,0,-1,0,-2,2], target = 0\n",
    "# Output: [[-2,-1,1,2],[-2,0,0,2],[-1,0,0,1]]\n",
    "# Constraints:\n",
    "# 1 <= nums.length <= 200\n",
    "# -109 <= nums[i] <= 109\n",
    "# -109 <= target <= 109"
   ]
  },
  {
   "cell_type": "code",
   "execution_count": 28,
   "id": "7a2e600f",
   "metadata": {},
   "outputs": [
    {
     "name": "stdout",
     "output_type": "stream",
     "text": [
      "Enter a string:dune\n",
      "dune\n",
      "duen\n",
      "dnue\n",
      "dneu\n",
      "denu\n",
      "deun\n",
      "udne\n",
      "uden\n",
      "unde\n",
      "uned\n",
      "uend\n",
      "uedn\n",
      "nude\n",
      "nued\n",
      "ndue\n",
      "ndeu\n",
      "nedu\n",
      "neud\n",
      "eund\n",
      "eudn\n",
      "enud\n",
      "endu\n",
      "ednu\n",
      "edun\n",
      "None\n",
      "['dune', 'duen', 'dnue', 'dneu', 'deun', 'denu', 'udne', 'uden', 'unde', 'uned', 'uedn', 'uend', 'ndue', 'ndeu', 'nude', 'nued', 'nedu', 'neud', 'edun', 'ednu', 'eudn', 'eund', 'endu', 'enud']\n"
     ]
    }
   ],
   "source": [
    "#27. Generate all possible permutations of given string s\n",
    "\n",
    "s = str(input(\"Enter a string:\"))\n",
    "## write a recursive function to find permutations \n",
    "def permutations(string, step = 0):\n",
    "    if step == len(string):\n",
    "        # we've gotten to the end, print the permutation\n",
    "        print(''.join(string))\n",
    "    for i in range(step, len(string)):\n",
    "        # copy the string (store as array)\n",
    "        string_copy = [c for c in string]\n",
    "         # swap the current index with the step\n",
    "        string_copy[step], string_copy[i] =string_copy[i], string_copy[step]\n",
    "         # recurse on the portion of the stringthat has not been swapped yet\n",
    "        permutations(string_copy, step + 1)\n",
    "        \n",
    "print(permutations (s))\n",
    "\n",
    "### Alternatively: use the permutations method in the itertools package\n",
    "from itertools import permutations\n",
    "\n",
    "print([''.join(p) for p in permutations('dune')])"
   ]
  },
  {
   "cell_type": "code",
   "execution_count": 29,
   "id": "9f28461d",
   "metadata": {},
   "outputs": [
    {
     "name": "stdout",
     "output_type": "stream",
     "text": [
      "[-23, -6, -5, 0, 5, 23, 23, 67]\n",
      "[-44, -12, -1, 0, 1, 2, 3, 3, 11, 22, 23, 25, 34, 64, 122]\n",
      "Original Array ---> [5, 4, 2, 3, 1]\n",
      "Modified Array ---> [1, 2, 3, 4, 5]\n"
     ]
    }
   ],
   "source": [
    "# 28. Sort array without using the sort function\n",
    "data_list = [-5, -23, 5, 0, 23, -6, 67, 23]\n",
    "sorted_list = []\n",
    "\n",
    "while(data_list):\n",
    "    minimum = data_list[0]\n",
    "    for x in data_list:\n",
    "        if x<minimum:\n",
    "            minimum = x\n",
    "    sorted_list.append(minimum)\n",
    "    data_list.remove(minimum)\n",
    "        \n",
    "print(sorted_list)\n",
    "    \n",
    "    \n",
    "## Alternatively, parse the given list using 2 for loops. time complexity = o(n2)\n",
    "l = [64, 25, -12, 22, 11, -1,2,-44,3,122, 23, 34,0,1,3]\n",
    "\n",
    "for i in range(len(l)):\n",
    "    for j in range(i + 1, len(l)):\n",
    "        if l[i] > l[j]:\n",
    "            l[i], l[j] = l[j], l[i]\n",
    "\n",
    "print(l)\n",
    "\n",
    "## Alternatively, write a recursive function to sort an array\n",
    "def swapsort(arr, length):\n",
    "    if length == 1:\n",
    "        return(arr)\n",
    "    swapsort(testVariable, length - 1)\n",
    "\n",
    "    # Insert last element at its correct position in sorted array\n",
    "    lastElement = testVariable[length - 1] # fetch the last element\n",
    "    temp = length - 2 # start finding its correct location from one element before it\n",
    "    \n",
    "    # Move elements of testVariable[0..i-1], that are greater than key, to one position ahead of their current position \n",
    "    while (temp >= 0 and testVariable[temp] > lastElement):\n",
    "        testVariable[temp + 1] = testVariable[temp]\n",
    "        temp = temp - 1\n",
    "\n",
    "    testVariable[temp + 1] = lastElement # place the element in its correct position\n",
    "\n",
    "# Driver Code\n",
    "testVariable = [5, 4, 2, 3, 1]\n",
    "print(\"Original Array ---> \" + str(testVariable))\n",
    "\n",
    "swapsort(testVariable, len(testVariable))\n",
    "print(\"Modified Array ---> \" + str(testVariable))"
   ]
  },
  {
   "cell_type": "code",
   "execution_count": 30,
   "id": "7e94c741",
   "metadata": {},
   "outputs": [
    {
     "name": "stdout",
     "output_type": "stream",
     "text": [
      "[[1 2]\n",
      " [3 4]\n",
      " [5 6]]\n",
      "[[1 2 5]\n",
      " [3 4 6]]\n"
     ]
    }
   ],
   "source": [
    "# 29. Combine 2 2-dimensional arrays in Python\n",
    "import numpy as np\n",
    "\n",
    "a = np.array([[1, 2], [3, 4]])\n",
    "b = np.array([[5, 6]])\n",
    "newnp = np.concatenate((a, b), axis=0)\n",
    "print(newnp)\n",
    "# array([[1, 2],\n",
    "#        [3, 4],\n",
    "#        [5, 6]])\n",
    "newnp = np.concatenate((a, b.T), axis=1)\n",
    "print(newnp)\n",
    "# array([[1, 2, 5],\n",
    "#        [3, 4, 6]])"
   ]
  },
  {
   "cell_type": "code",
   "execution_count": null,
   "id": "8486d975",
   "metadata": {},
   "outputs": [],
   "source": []
  }
 ],
 "metadata": {
  "kernelspec": {
   "display_name": "Python 3 (ipykernel)",
   "language": "python",
   "name": "python3"
  },
  "language_info": {
   "codemirror_mode": {
    "name": "ipython",
    "version": 3
   },
   "file_extension": ".py",
   "mimetype": "text/x-python",
   "name": "python",
   "nbconvert_exporter": "python",
   "pygments_lexer": "ipython3",
   "version": "3.8.12"
  }
 },
 "nbformat": 4,
 "nbformat_minor": 5
}
